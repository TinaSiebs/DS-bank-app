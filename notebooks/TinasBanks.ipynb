{
 "cells": [
  {
   "cell_type": "code",
   "execution_count": 37,
   "metadata": {},
   "outputs": [
    {
     "name": "stdout",
     "output_type": "stream",
     "text": [
      "The autoreload extension is already loaded. To reload it, use:\n",
      "  %reload_ext autoreload\n"
     ]
    }
   ],
   "source": [
    "%load_ext autoreload\n",
    "%autoreload 2"
   ]
  },
  {
   "cell_type": "code",
   "execution_count": 38,
   "metadata": {},
   "outputs": [],
   "source": [
    "from app import Bank"
   ]
  },
  {
   "cell_type": "code",
   "execution_count": 39,
   "metadata": {},
   "outputs": [],
   "source": [
    "bank = Bank('DKB')\n",
    "bank2 = Bank2('SKK')"
   ]
  },
  {
   "cell_type": "code",
   "execution_count": 40,
   "metadata": {},
   "outputs": [
    {
     "name": "stdout",
     "output_type": "stream",
     "text": [
      "Bank: DKB\n",
      "Accounts: []\n",
      "Transactions: []\n"
     ]
    }
   ],
   "source": [
    "print(f'Bank: {bank.name}')\n",
    "print(f'Accounts: {bank.accounts}')\n",
    "print(f'Transactions: {bank.transactions}')"
   ]
  },
  {
   "cell_type": "code",
   "execution_count": 41,
   "metadata": {},
   "outputs": [],
   "source": [
    "#add_account\n",
    "Account1 = bank.open_account({'number': 1, 'firstname': \"John\", 'lastname': \"Lehmann\"})\n",
    "Account2 = bank.open_account({'number': 2, 'firstname': \"Michael\", 'lastname': \"Caine\"})"
   ]
  },
  {
   "cell_type": "code",
   "execution_count": 42,
   "metadata": {},
   "outputs": [
    {
     "name": "stdout",
     "output_type": "stream",
     "text": [
      "Accounts: [{'number': 1, 'firstname': 'John', 'lastname': 'Lehmann'}, {'number': 2, 'firstname': 'Michael', 'lastname': 'Caine'}]\n"
     ]
    }
   ],
   "source": [
    "print(f'Accounts: {bank.accounts}')"
   ]
  },
  {
   "cell_type": "code",
   "execution_count": 44,
   "metadata": {},
   "outputs": [],
   "source": [
    "#add_transaction\n",
    "Transaction_Withdraw = bank.add_transaction(**{'sender': Account1, 'recipient': Account2, 'subject': \"Geldautomat\", 'amount': 100})"
   ]
  },
  {
   "cell_type": "code",
   "execution_count": 45,
   "metadata": {},
   "outputs": [
    {
     "data": {
      "text/plain": [
       "{'sender': {'number': 1, 'firstname': 'John', 'lastname': 'Lehmann'},\n",
       " 'recipient': {'number': 2, 'firstname': 'Michael', 'lastname': 'Caine'},\n",
       " 'subject': 'Geldautomat',\n",
       " 'amount': 100}"
      ]
     },
     "execution_count": 45,
     "metadata": {},
     "output_type": "execute_result"
    }
   ],
   "source": [
    "Transaction_Withdraw"
   ]
  },
  {
   "cell_type": "code",
   "execution_count": 46,
   "metadata": {},
   "outputs": [],
   "source": [
    "Transaction_Withdraw = bank.add_transaction(sender=Account1, recipient=Account2, subject=\"Geldautomat\", amount=100)"
   ]
  },
  {
   "cell_type": "code",
   "execution_count": 47,
   "metadata": {},
   "outputs": [
    {
     "data": {
      "text/plain": [
       "{'sender': {'number': 1, 'firstname': 'John', 'lastname': 'Lehmann'},\n",
       " 'recipient': {'number': 2, 'firstname': 'Michael', 'lastname': 'Caine'},\n",
       " 'subject': 'Geldautomat',\n",
       " 'amount': 100}"
      ]
     },
     "execution_count": 47,
     "metadata": {},
     "output_type": "execute_result"
    }
   ],
   "source": [
    "Transaction_Withdraw"
   ]
  },
  {
   "cell_type": "code",
   "execution_count": 48,
   "metadata": {},
   "outputs": [
    {
     "data": {
      "text/plain": [
       "[{'sender': {'number': 1, 'firstname': 'John', 'lastname': 'Lehmann'},\n",
       "  'recipient': {'number': 2, 'firstname': 'Michael', 'lastname': 'Caine'},\n",
       "  'subject': 'Geldautomat',\n",
       "  'amount': 100},\n",
       " {'sender': {'number': 1, 'firstname': 'John', 'lastname': 'Lehmann'},\n",
       "  'recipient': {'number': 2, 'firstname': 'Michael', 'lastname': 'Caine'},\n",
       "  'subject': 'Geldautomat',\n",
       "  'amount': 100}]"
      ]
     },
     "execution_count": 48,
     "metadata": {},
     "output_type": "execute_result"
    }
   ],
   "source": [
    "bank.transactions"
   ]
  },
  {
   "cell_type": "code",
   "execution_count": 49,
   "metadata": {},
   "outputs": [
    {
     "data": {
      "text/plain": [
       "2"
      ]
     },
     "execution_count": 49,
     "metadata": {},
     "output_type": "execute_result"
    }
   ],
   "source": [
    "len(bank.transactions)"
   ]
  },
  {
   "cell_type": "code",
   "execution_count": null,
   "metadata": {},
   "outputs": [],
   "source": []
  }
 ],
 "metadata": {
  "kernelspec": {
   "display_name": "Python 3",
   "language": "python",
   "name": "python3"
  },
  "language_info": {
   "codemirror_mode": {
    "name": "ipython",
    "version": 3
   },
   "file_extension": ".py",
   "mimetype": "text/x-python",
   "name": "python",
   "nbconvert_exporter": "python",
   "pygments_lexer": "ipython3",
   "version": "3.6.8"
  }
 },
 "nbformat": 4,
 "nbformat_minor": 2
}
