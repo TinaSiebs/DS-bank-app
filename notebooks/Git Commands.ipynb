{
 "cells": [
  {
   "cell_type": "markdown",
   "metadata": {},
   "source": [
    "# Git Commands\n",
    "\n",
    "## Git Cheat Sheet\n",
    "https://www.git-tower.com/learn/cheat-sheets/git"
   ]
  },
  {
   "cell_type": "markdown",
   "metadata": {},
   "source": [
    "## git clone\n",
    "\n",
    "Downloading an existing repository from a remote server\n",
    "\n",
    "`git clone https://repository.url/repository_name.git`\n",
    "\n",
    "https://www.git-tower.com/learn/git/commands/git-clone"
   ]
  },
  {
   "cell_type": "markdown",
   "metadata": {},
   "source": [
    "## git branch\n",
    "\n",
    "Creating a new branch (copy) from current branch\n",
    "\n",
    "`git branch new_branch_name`"
   ]
  },
  {
   "cell_type": "markdown",
   "metadata": {},
   "source": [
    "## git checkout\n",
    "\n",
    "Changing from current branch into other branch\n",
    "\n",
    "`git checkout new_branch_name`"
   ]
  },
  {
   "cell_type": "markdown",
   "metadata": {},
   "source": [
    "## git commit\n",
    "\n",
    "Saving changes to the local repository\n",
    "\n",
    "`git commit -m 'Commit message'`\n",
    "\n",
    "https://www.git-tower.com/learn/git/commands/git-commit"
   ]
  },
  {
   "cell_type": "markdown",
   "metadata": {},
   "source": [
    "## git fetch\n",
    "\n",
    "Downloading remote changes\n",
    "\n",
    "`git fetch origin branch_name`\n",
    "\n",
    "`git fetch`"
   ]
  },
  {
   "cell_type": "markdown",
   "metadata": {},
   "source": [
    "## git pull\n",
    "\n",
    "Downloading and integrating remote changes\n",
    "\n",
    "`git pull origin branch_name`\n",
    "\n",
    "`git pull`\n",
    "\n",
    "https://www.git-tower.com/learn/git/commands/git-pull"
   ]
  },
  {
   "cell_type": "markdown",
   "metadata": {},
   "source": [
    "## git push\n",
    "\n",
    "Publishing new local changes on a remote server\n",
    "\n",
    "`git push origin branch_name`\n",
    "\n",
    "`git push`\n",
    "\n",
    "https://www.git-tower.com/learn/git/commands/git-push"
   ]
  },
  {
   "cell_type": "markdown",
   "metadata": {},
   "source": [
    "## git merge\n",
    "\n",
    "Integrating changes from another branch\n",
    "\n",
    "`git merge branch_name`\n",
    "\n",
    "https://www.git-tower.com/learn/git/commands/git-merge"
   ]
  }
 ],
 "metadata": {
  "kernelspec": {
   "display_name": "Python 3",
   "language": "python",
   "name": "python3"
  },
  "language_info": {
   "codemirror_mode": {
    "name": "ipython",
    "version": 3
   },
   "file_extension": ".py",
   "mimetype": "text/x-python",
   "name": "python",
   "nbconvert_exporter": "python",
   "pygments_lexer": "ipython3",
   "version": "3.7.1"
  }
 },
 "nbformat": 4,
 "nbformat_minor": 2
}
